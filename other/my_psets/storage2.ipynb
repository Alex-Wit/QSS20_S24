{
 "cells": [
  {
   "cell_type": "markdown",
   "id": "8c479240-329f-4b17-9f60-edadcc5682f9",
   "metadata": {},
   "source": [
    "## Storage"
   ]
  },
  {
   "cell_type": "code",
   "execution_count": null,
   "id": "83e9629f-d497-404d-987c-16625a2e6b8c",
   "metadata": {},
   "outputs": [],
   "source": []
  },
  {
   "cell_type": "code",
   "execution_count": null,
   "id": "f3545c3f-f8aa-4af4-b9e5-47301d6b1f42",
   "metadata": {},
   "outputs": [],
   "source": []
  },
  {
   "cell_type": "code",
   "execution_count": null,
   "id": "d3137e6c-9657-450f-ae78-8c15161b1b26",
   "metadata": {},
   "outputs": [],
   "source": []
  },
  {
   "cell_type": "code",
   "execution_count": null,
   "id": "143a662a-a210-4462-8c67-e09d7b86a156",
   "metadata": {},
   "outputs": [],
   "source": [
    "# Count the occurrences of each name and filter where counts are greater than 1\n",
    "repeated_names_a = debar['Name'].value_counts()\n",
    "repeated_names_a = repeated_names_a[repeated_names_a > 1].index.tolist()\n",
    "\n",
    "# Print the list of repeated names\n",
    "print(repeated_names_a)\n"
   ]
  },
  {
   "cell_type": "code",
   "execution_count": null,
   "id": "3b9fea05-37a6-4bb8-aa5f-d6894a3ae65e",
   "metadata": {},
   "outputs": [],
   "source": [
    "# Group by 'Name' and count the number of entries for each group\n",
    "repeated_names_b = debar.groupby('Name').size()\n",
    "\n",
    "# Filter groups where the count is greater than 1\n",
    "repeated_names_b = repeated_names_b[repeated_names_b > 1].index.tolist()\n",
    "\n",
    "# Print the list of repeated names\n",
    "print(repeated_names_b)\n"
   ]
  },
  {
   "cell_type": "code",
   "execution_count": null,
   "id": "390adfd7-e616-4824-a616-931bcc4c3e79",
   "metadata": {},
   "outputs": [],
   "source": [
    "# New column for repeated employer names\n",
    "debar['is_repeated'] = debar['Name'].duplicated(keep=False)\n",
    "\n",
    "# Print repeat rows \n",
    "print(debar[debar['is_repeated']])\n",
    "\n",
    "# Subset to repeat rows \n",
    "mult_debar = debar[debar['is_repeated']]\n",
    "\n",
    "# Head and shape of the new df\n",
    "mult_debar"
   ]
  },
  {
   "cell_type": "code",
   "execution_count": null,
   "id": "10c537f4-dd5b-417b-a404-bc1d6b1f739d",
   "metadata": {},
   "outputs": [],
   "source": []
  },
  {
   "cell_type": "code",
   "execution_count": null,
   "id": "933912d0-f02d-4dd6-a76d-627caeee0a5e",
   "metadata": {},
   "outputs": [],
   "source": []
  },
  {
   "cell_type": "code",
   "execution_count": null,
   "id": "323e9881-0d14-43fa-80a2-36722a1b2b4b",
   "metadata": {},
   "outputs": [],
   "source": [
    "\n",
    "# Adding a helper column 'violation_number' to enumerate violations for each employer\n",
    "mult_debar['violation_number'] = mult_debar.groupby(['Name', 'City, State']).cumcount() + 1\n",
    "\n",
    "# Pivot the DataFrame to wide format\n",
    "mult_debar_wide = mult_debar.pivot_table(\n",
    "    index=['Name', 'City, State'],\n",
    "    columns='violation_number',\n",
    "    values='Start date',\n",
    "    aggfunc='first'\n",
    ")\n",
    "\n",
    "# Rename columns for clarity\n",
    "mult_debar_wide.columns = [f'start_date_viol{num}' for num in mult_debar_wide.columns]\n",
    "\n",
    "# Reset index to make 'Name' and 'City, State' regular columns\n",
    "mult_debar_wide.reset_index(inplace=True)\n",
    "\n",
    "mult_debar_wide\n",
    "\n",
    "# # Display the head of the new DataFrame and its shape\n",
    "# print(mult_debar_wide.head())\n",
    "# print(mult_debar_wide.shape)\n"
   ]
  },
  {
   "cell_type": "code",
   "execution_count": null,
   "id": "40c4c5ca-f15d-4568-9ba3-8583cdd0cf14",
   "metadata": {},
   "outputs": [],
   "source": [
    "\n",
    "# Create a unique identifier based on 'Name', 'City, State', and 'Start date'\n",
    "mult_debar['unique_id'] = mult_debar['Name'] + mult_debar['City, State'] + mult_debar['Start date'].astype(str)\n",
    "\n",
    "# Flag duplicates based on the unique identifier\n",
    "mult_debar['is_duplicate'] = mult_debar.duplicated('unique_id', keep=False)\n",
    "\n",
    "# Separate the data into duplicates and unique violation cases\n",
    "duplicates = mult_debar[mult_debar['is_duplicate']]\n",
    "unique_violations = mult_debar[~mult_debar['is_duplicate']]\n",
    "\n",
    "\n",
    "duplicates\n",
    "unique_violations\n",
    "\n",
    "# # Print results\n",
    "# print(\"Duplicates:\")\n",
    "# print(duplicates.head())\n",
    "# print(\"Unique Violations:\")\n",
    "# print(unique_violations.head())\n",
    "\n",
    "# # Print the shape of the resulting DataFrames\n",
    "# print(\"Shape of Duplicates DataFrame:\", duplicates.shape)\n",
    "# print(\"Shape of Unique Violations DataFrame:\", unique_violations.shape)\n"
   ]
  }
 ],
 "metadata": {
  "kernelspec": {
   "display_name": "Python 3 (ipykernel)",
   "language": "python",
   "name": "python3"
  },
  "language_info": {
   "codemirror_mode": {
    "name": "ipython",
    "version": 3
   },
   "file_extension": ".py",
   "mimetype": "text/x-python",
   "name": "python",
   "nbconvert_exporter": "python",
   "pygments_lexer": "ipython3",
   "version": "3.11.7"
  }
 },
 "nbformat": 4,
 "nbformat_minor": 5
}
